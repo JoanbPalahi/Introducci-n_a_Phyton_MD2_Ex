{
  "nbformat": 4,
  "nbformat_minor": 0,
  "metadata": {
    "colab": {
      "provenance": []
    },
    "kernelspec": {
      "name": "python3",
      "display_name": "Python 3"
    },
    "language_info": {
      "name": "python"
    }
  },
  "cells": [
    {
      "cell_type": "code",
      "execution_count": null,
      "metadata": {
        "id": "Z2kG6Il_ggb_"
      },
      "outputs": [],
      "source": []
    },
    {
      "cell_type": "code",
      "source": [
        "compra = { \"Pomes\" : {\"Qty\": 5, \"€\": 0.42}, \"Peres\" : {\"Qty\": 3, \"€\": 0.66} }\n",
        "x = compra.keys()\n",
        "print(x)"
      ],
      "metadata": {
        "colab": {
          "base_uri": "https://localhost:8080/"
        },
        "id": "pkV0uSQBgjrs",
        "outputId": "607f6ea0-b08b-4dc7-cdec-6a7c0dd0d78a"
      },
      "execution_count": null,
      "outputs": [
        {
          "output_type": "stream",
          "name": "stdout",
          "text": [
            "dict_keys(['Pomes', 'Peres'])\n"
          ]
        }
      ]
    },
    {
      "cell_type": "code",
      "source": [
        "compra = {\n",
        "    \"Pomes\": {\"Qty\": 5, \"€\": 0.42},\n",
        "    \"Peres\": {\"Qty\": 3, \"€\": 0.66}\n",
        "}\n",
        "\n",
        "compra[\"Kiwi\"] = {\"Qty\": 4, \"€\": 0.53}\n",
        "\n",
        "print(compra)\n"
      ],
      "metadata": {
        "id": "bohDKM-I6qnF",
        "colab": {
          "base_uri": "https://localhost:8080/"
        },
        "outputId": "53f13121-f653-4d96-a1b2-a0e084e4c837"
      },
      "execution_count": 3,
      "outputs": [
        {
          "output_type": "stream",
          "name": "stdout",
          "text": [
            "{'Pomes': {'Qty': 5, '€': 0.42}, 'Peres': {'Qty': 3, '€': 0.66}, 'Kiwi': {'Qty': 4, '€': 0.53}}\n"
          ]
        }
      ]
    },
    {
      "cell_type": "code",
      "source": [
        "\n",
        "peres_qty = compra[\"Peres\"][\"Qty\"]\n",
        "peres_euro = compra[\"Peres\"][\"€\"]\n",
        "preu_peres = peres_qty * peres_euro\n",
        "compra[\"Peres\"][\"Preu\"] = preu_peres\n",
        "print(compra)\n"
      ],
      "metadata": {
        "colab": {
          "base_uri": "https://localhost:8080/"
        },
        "id": "L90qdX3yR2zz",
        "outputId": "ceabcb35-6c84-4d76-fd48-37daaa854f9a"
      },
      "execution_count": 9,
      "outputs": [
        {
          "output_type": "stream",
          "name": "stdout",
          "text": [
            "{'Pomes': {'Qty': 5, '€': 0.42}, 'Peres': {'Qty': 3, '€': 0.66, 'TotalCost': 1.98, 'Preu': 1.98}, 'Kiwi': {'Qty': 4, '€': 0.53}}\n"
          ]
        }
      ]
    },
    {
      "cell_type": "code",
      "source": [
        "compra = {'Pomes': {'Qty': 5, '€': 0.42}, 'Peres': {'Qty': 3, '€': 0.66}, 'Kiwi': {'Qty': 2, '€': 0.75}}\n",
        "\n",
        "total_qty = sum(item[\"Qty\"] for item in compra.values())\n",
        "\n",
        "print(\"Total Quantity:\", total_qty)\n"
      ],
      "metadata": {
        "colab": {
          "base_uri": "https://localhost:8080/"
        },
        "id": "892ZuRoaTpY8",
        "outputId": "8e8e1a93-5cc0-4245-e48a-a3e4a8451851"
      },
      "execution_count": 10,
      "outputs": [
        {
          "output_type": "stream",
          "name": "stdout",
          "text": [
            "Total Quantity: 10\n"
          ]
        }
      ]
    },
    {
      "cell_type": "code",
      "source": [
        "compra = {'Pomes': {'Qty': 5, '€': 0.42}, 'Peres': {'Qty': 3, '€': 0.66}, 'Kiwi': {'Qty': 2, '€': 0.75}}\n",
        "\n",
        "total_costs = {key: item['Qty'] * item['€'] for key, item in compra.items()}\n",
        "\n",
        "most_expensive_item = max(total_costs, key=total_costs.get)\n",
        "\n",
        "print(\"La fruita més cara és:\", most_expensive_item)\n"
      ],
      "metadata": {
        "colab": {
          "base_uri": "https://localhost:8080/"
        },
        "id": "idPIKRrTUGHJ",
        "outputId": "c74db943-bfcc-4fa1-9d71-184d90f4a215"
      },
      "execution_count": 11,
      "outputs": [
        {
          "output_type": "stream",
          "name": "stdout",
          "text": [
            "La fruita més cara és: Pomes\n"
          ]
        }
      ]
    }
  ]
}